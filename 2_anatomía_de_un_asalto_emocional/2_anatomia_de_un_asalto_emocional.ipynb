{
 "cells": [
  {
   "cell_type": "markdown",
   "metadata": {},
   "source": []
  },
  {
   "cell_type": "markdown",
   "metadata": {},
   "source": []
  },
  {
   "cell_type": "markdown",
   "metadata": {},
   "source": [
    "# 2 Anatomía de un asalto emocional"
   ]
  },
  {
   "cell_type": "markdown",
   "metadata": {},
   "source": [
    "La vida es una comedia para aquellos que piensan y una trajedia para aquellos que sienten. Horace Walpole. "
   ]
  },
  {
   "cell_type": "markdown",
   "metadata": {},
   "source": [
    "Era una calurosa tarde de agosto de 1963, el mismo día en que el reverendo Martin Luther King Jr., pronunció durante una marcha en Washington por los derechos civiles, el discurso en el que dijo: \"Tengo un sueño\". Aquel día Richard Robles, un avezado ladrón que acababa de quedar en libertad condicional tras una condena de tres años por más de cien asaltos que había perpetrado para mantener su hábito con la heroína, decidió hacer uno más. "
   ]
  },
  {
   "cell_type": "markdown",
   "metadata": {},
   "source": []
  },
  {
   "cell_type": "code",
   "execution_count": null,
   "metadata": {},
   "outputs": [],
   "source": []
  },
  {
   "cell_type": "code",
   "execution_count": null,
   "metadata": {},
   "outputs": [],
   "source": []
  }
 ],
 "metadata": {
  "language_info": {
   "name": "python"
  },
  "orig_nbformat": 4
 },
 "nbformat": 4,
 "nbformat_minor": 2
}
