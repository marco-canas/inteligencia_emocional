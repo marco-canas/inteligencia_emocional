{
 "cells": [
  {
   "cell_type": "markdown",
   "metadata": {},
   "source": [
    "<table align=\"left\">\n",
    "  <td>\n",
    "    <a href=\"https://colab.research.google.com/github/marco-canas/4_didactica_aritmetica/blob/main/modelo_general_clase_aula_invertida.ipynb\" target=\"_parent\"><img src=\"https://colab.research.google.com/assets/colab-badge.svg\" alt=\"Open In Colab\"/></a>\n",
    "  </td>\n",
    "</table>"
   ]
  },
  {
   "cell_type": "markdown",
   "metadata": {},
   "source": [
    "### [Video de apoyo]()"
   ]
  },
  {
   "cell_type": "markdown",
   "metadata": {},
   "source": [
    "# ¿Para que son las emociones? "
   ]
  },
  {
   "cell_type": "markdown",
   "metadata": {},
   "source": [
    "*Es con el corazón como vemos correctamente; lo esencial es invisile a los ojos* Antoine de Saint -- Exupéry, El principito. "
   ]
  },
  {
   "cell_type": "markdown",
   "metadata": {},
   "source": [
    "Consideremos los últimos momentos de la vida de Gary y Mary Jane Chauncey, una pareja totalmente consagrada a su hija Andrea, de once años, confinada en una silla de ruedas a causa de la parálisis cerebral. "
   ]
  },
  {
   "cell_type": "markdown",
   "metadata": {},
   "source": [
    "La familia Chauncey viajaba en un tren Amtrak que cayó al rio después que una barcaza chocara con un puente del ferrocarril en Luisiana, derribándolo. "
   ]
  },
  {
   "cell_type": "markdown",
   "metadata": {},
   "source": []
  },
  {
   "cell_type": "markdown",
   "metadata": {},
   "source": [
    "# Cuando las pasiones aplastan a la razón"
   ]
  },
  {
   "cell_type": "markdown",
   "metadata": {},
   "source": [
    "Fue una sucesión de errores trágicos. "
   ]
  },
  {
   "cell_type": "markdown",
   "metadata": {},
   "source": [
    "Matilda Crabtree, de catorce años, quiso hacerle una broma a su padre: salió de un armario dando un salto y gritando \"¡Buuu!\" mientras sus padres entraban en la casa a la una de la mañana, después de visitar a unos amigos. "
   ]
  },
  {
   "cell_type": "markdown",
   "metadata": {
    "vscode": {
     "languageId": "plaintext"
    }
   },
   "source": [
    "Pero Bobby Crabtree y su esposa pensaron que Matilda se quedaba esa noche en casa de unos amigos. "
   ]
  },
  {
   "cell_type": "markdown",
   "metadata": {
    "vscode": {
     "languageId": "plaintext"
    }
   },
   "source": [
    "Al oir ruidos mientras entraba en su casa, Crabtree buscó su pistola calibre 357y entró en el dormitorio de Matilda para investigar. "
   ]
  },
  {
   "cell_type": "markdown",
   "metadata": {
    "vscode": {
     "languageId": "plaintext"
    }
   },
   "source": [
    "Cuando Matilda salió de un salto del armario, Crabtree le disparó al cuello. "
   ]
  },
  {
   "cell_type": "markdown",
   "metadata": {},
   "source": [
    "Matilda Crabtree murió doce horas más tarde. "
   ]
  },
  {
   "cell_type": "markdown",
   "metadata": {},
   "source": []
  },
  {
   "cell_type": "markdown",
   "metadata": {},
   "source": []
  },
  {
   "cell_type": "code",
   "execution_count": null,
   "metadata": {
    "vscode": {
     "languageId": "plaintext"
    }
   },
   "outputs": [],
   "source": []
  }
 ],
 "metadata": {
  "language_info": {
   "name": "python"
  },
  "orig_nbformat": 4
 },
 "nbformat": 4,
 "nbformat_minor": 2
}
